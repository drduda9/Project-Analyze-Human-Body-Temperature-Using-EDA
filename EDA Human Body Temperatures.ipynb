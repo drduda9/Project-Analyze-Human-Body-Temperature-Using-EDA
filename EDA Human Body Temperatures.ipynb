{
 "cells": [
  {
   "cell_type": "markdown",
   "metadata": {},
   "source": [
    "# What is the True Normal Human Body Temperature? \n",
    "\n",
    "#### Background\n",
    "\n",
    "The mean normal body temperature was held to be 37$^{\\circ}$C or 98.6$^{\\circ}$F for more than 120 years since it was first conceptualized and reported by Carl Wunderlich in a famous 1868 book. But, is this value statistically correct?"
   ]
  },
  {
   "cell_type": "markdown",
   "metadata": {},
   "source": [
    "<h3>Exercises</h3>\n",
    "\n",
    "<p>In this exercise, you will analyze a dataset of human body temperatures and employ the concepts of hypothesis testing, confidence intervals, and statistical significance.</p>\n",
    "\n",
    "<p>Answer the following questions <b>in this notebook below and submit to your Github account</b>.</p> \n",
    "\n",
    "<ol>\n",
    "<li>  Is the distribution of body temperatures normal? \n",
    "    <ul>\n",
    "    <li> Although this is not a requirement for the Central Limit Theorem to hold (read the introduction on Wikipedia's page about the CLT carefully: https://en.wikipedia.org/wiki/Central_limit_theorem), it gives us some peace of mind that the population may also be normally distributed if we assume that this sample is representative of the population.\n",
    "    <li> Think about the way you're going to check for the normality of the distribution. Graphical methods are usually used first, but there are also other ways: https://en.wikipedia.org/wiki/Normality_test\n",
    "    </ul>\n",
    "<li>  Is the sample size large? Are the observations independent?\n",
    "    <ul>\n",
    "    <li> Remember that this is a condition for the Central Limit Theorem, and hence the statistical tests we are using, to apply.\n",
    "    </ul>\n",
    "<li>  Is the true population mean really 98.6 degrees F?\n",
    "    <ul>\n",
    "    <li> First, try a bootstrap hypothesis test.\n",
    "    <li> Now, let's try frequentist statistical testing. Would you use a one-sample or two-sample test? Why?\n",
    "    <li> In this situation, is it appropriate to use the $t$ or $z$ statistic? \n",
    "    <li> Now try using the other test. How is the result be different? Why?\n",
    "    </ul>\n",
    "<li>  Draw a small sample of size 10 from the data and repeat both frequentist tests. \n",
    "    <ul>\n",
    "    <li> Which one is the correct one to use? \n",
    "    <li> What do you notice? What does this tell you about the difference in application of the $t$ and $z$ statistic?\n",
    "    </ul>\n",
    "<li>  At what temperature should we consider someone's temperature to be \"abnormal\"?\n",
    "    <ul>\n",
    "    <li> As in the previous example, try calculating everything using the boostrap approach, as well as the frequentist approach.\n",
    "    <li> Start by computing the margin of error and confidence interval. When calculating the confidence interval, keep in mind that you should use the appropriate formula for one draw, and not N draws.\n",
    "    </ul>\n",
    "<li>  Is there a significant difference between males and females in normal temperature?\n",
    "    <ul>\n",
    "    <li> What testing approach did you use and why?\n",
    "    <li> Write a story with your conclusion in the context of the original problem.\n",
    "    </ul>\n",
    "</ol>\n",
    "\n",
    "You can include written notes in notebook cells using Markdown: \n",
    "   - In the control panel at the top, choose Cell > Cell Type > Markdown\n",
    "   - Markdown syntax: http://nestacms.com/docs/creating-content/markdown-cheat-sheet\n",
    "\n",
    "#### Resources\n",
    "\n",
    "+ Information and data sources: http://www.amstat.org/publications/jse/datasets/normtemp.txt, http://www.amstat.org/publications/jse/jse_data_archive.htm\n",
    "+ Markdown syntax: http://nestacms.com/docs/creating-content/markdown-cheat-sheet\n",
    "\n",
    "****"
   ]
  },
  {
   "cell_type": "code",
   "execution_count": 98,
   "metadata": {
    "collapsed": true
   },
   "outputs": [],
   "source": [
    "#Import packages for analysis\n",
    "import pandas as pd\n",
    "import matplotlib.pyplot as plt\n",
    "import numpy as np\n",
    "import seaborn as sns\n",
    "import scipy.stats as stats\n",
    "import statsmodels.stats as smd\n",
    "import pylab\n",
    "import matplotlib.cm as cm\n",
    "\n",
    "\n",
    "# Turn edges on in plt\n",
    "plt.rcParams[\"patch.force_edgecolor\"] = True\n",
    "\n",
    "# Matplotlib setup\n",
    "%matplotlib inline\n",
    "\n",
    "#np.random.seed(1000)\n",
    "\n",
    "df = pd.read_csv('data/human_body_temperature.csv')"
   ]
  },
  {
   "cell_type": "code",
   "execution_count": 84,
   "metadata": {},
   "outputs": [
    {
     "name": "stdout",
     "output_type": "stream",
     "text": [
      "   temperature gender  heart_rate\n",
      "0         99.3      F        68.0\n",
      "1         98.4      F        81.0\n",
      "2         97.8      M        73.0\n",
      "3         99.2      F        66.0\n",
      "4         98.0      F        73.0\n",
      "temperature    float64\n",
      "gender          object\n",
      "heart_rate     float64\n",
      "dtype: object\n"
     ]
    }
   ],
   "source": [
    "#View the dataset\n",
    "print(df.head())\n",
    "\n",
    "print(df.dtypes)\n"
   ]
  },
  {
   "cell_type": "code",
   "execution_count": 85,
   "metadata": {},
   "outputs": [],
   "source": [
    "def ecdf(data):\n",
    "    n = len(data)\n",
    "    x = np.sort(data)\n",
    "    y = np.arange(1, n+1) / n\n",
    "    \n",
    "    return x, y"
   ]
  },
  {
   "cell_type": "markdown",
   "metadata": {},
   "source": [
    "### Question #1: Is the distribution of body temperatures normal?"
   ]
  },
  {
   "cell_type": "code",
   "execution_count": 86,
   "metadata": {},
   "outputs": [
    {
     "data": {
      "image/png": "[encoded data removed]",
      "text/plain": [
       "<Figure size 432x288 with 1 Axes>"
      ]
     },
     "metadata": {
      "needs_background": "light"
     },
     "output_type": "display_data"
    }
   ],
   "source": [
    "# Determine whether distribution is normal \n",
    "temp = df['temperature']\n",
    "\n",
    "plt.style.use('seaborn-colorblind')\n",
    "\n",
    "# Number of bins is square root of number of data points\n",
    "n_bins = np.sqrt(len(temp))\n",
    "\n",
    "# Must convert bins to integer\n",
    "n_bins = int(n_bins)\n",
    "\n",
    "# Plot histogram\n",
    "_ = plt.hist(temp, density = True, bins = n_bins)\n",
    "\n",
    "# Overlay PDF of the Standard Normal Distribution\n",
    "x = np.linspace(np.min(temp) - 1, np.max(temp) + 1, 100, endpoint = True)\n",
    "pdf = [stats.norm.pdf(_, loc = np.mean(temp), scale = np.std(temp)) for _ in x]\n",
    "plt.plot(x, pdf, 'k-')\n",
    "\n",
    "# Label histogram plot\n",
    "_ = plt.text(95.5, .5, r'$\\mu= {},\\ \\sigma={}$'.format(round(np.mean(temp), 2), round(np.std(temp), 2)))\n",
    "_ = plt.xlabel('Temperature (F)')\n",
    "_ = plt.ylabel('Frequency')\n",
    "_ = plt.title('Human Body Temperatures')"
   ]
  },
  {
   "cell_type": "code",
   "execution_count": 87,
   "metadata": {},
   "outputs": [
    {
     "data": {
      "image/png": "[encoded data removed]",
      "text/plain": [
       "<Figure size 432x288 with 1 Axes>"
      ]
     },
     "metadata": {
      "needs_background": "light"
     },
     "output_type": "display_data"
    }
   ],
   "source": [
    "# Create and view additional plot, Cumulative Distribution Function (CDF)\n",
    "plt.style.use('seaborn-colorblind')\n",
    "\n",
    "# Plot CDFs\n",
    "x, y = ecdf(temp)\n",
    "\n",
    "# draw 10,000 random samples from a normal distribution\n",
    "norm_temp = np.random.normal(np.mean(temp), np.std(temp), 10000)\n",
    "norm_x, norm_y = ecdf(norm_temp)\n",
    "\n",
    "# Plot and label figure\n",
    "\n",
    "_ = plt.plot(x, y, marker = '.', linestyle = 'none', color = 'red')\n",
    "_ = plt.plot(norm_x, norm_y)\n",
    "_ = plt.xlabel('Temperature (F)')\n",
    "_ = plt.ylabel('CDF')\n",
    "_ = plt.title('Cumulative Distribution Function (CDF) for Human Body Temperatures')\n",
    "\n",
    "plt.show()"
   ]
  },
  {
   "cell_type": "markdown",
   "metadata": {},
   "source": [
    "##### The first plot (histogram) shows the sample's distribution nearly perfectly distributed around the mean. The CDF plot shows the frequency distribution of the data to be close to normal with minimal outliers. The distribution of body temperatures appears normal."
   ]
  },
  {
   "cell_type": "markdown",
   "metadata": {},
   "source": [
    "### Question 2: Is the sample size large? Are the observations independent?"
   ]
  },
  {
   "cell_type": "code",
   "execution_count": 88,
   "metadata": {},
   "outputs": [
    {
     "name": "stdout",
     "output_type": "stream",
     "text": [
      "<class 'pandas.core.frame.DataFrame'>\n",
      "RangeIndex: 130 entries, 0 to 129\n",
      "Data columns (total 3 columns):\n",
      "temperature    130 non-null float64\n",
      "gender         130 non-null object\n",
      "heart_rate     130 non-null float64\n",
      "dtypes: float64(2), object(1)\n",
      "memory usage: 3.1+ KB\n"
     ]
    }
   ],
   "source": [
    "df.info()"
   ]
  },
  {
   "cell_type": "markdown",
   "metadata": {},
   "source": [
    "##### The sample size is large enough for Central Limit Theorem (CLT) to apply. A sample size of 30, given other factors, is generally accepted as \"large enough.\"\n",
    "\n",
    ">The central limit theorem states that the sum of a number of independent and identically distributed random variables with finite variances will tend to a normal distribution as the number of variables grows.\n",
    "\n",
    "##### Because the data is unimodal and almost perfectly symmetrical around the mean, the sample size of 130 observations is enough to satisfy the \"sufficiently large\" requirement of the CLT. \n",
    "\n",
    "##### An independent variable is defined as \"a variable whose variation does not depend on that of another.\" Given that knowing the outcome of one observation does not provide insight to another observation, the observations are independent. \n"
   ]
  },
  {
   "cell_type": "markdown",
   "metadata": {},
   "source": [
    "### Question 3: Is the true population mean really 98.6 degrees F?\n",
    "##### First, try a bootstrap hypothesis test.\n",
    "##### Now, let's try frequentist statistical testing. Would you use a one-sample or two-sample test? Why?\n",
    "##### In this situation, is it appropriate to use the  𝑡  or  𝑧  statistic?\n",
    "##### Now try using the other test. How is the result be different? Why?"
   ]
  },
  {
   "cell_type": "code",
   "execution_count": 89,
   "metadata": {},
   "outputs": [
    {
     "data": {
      "text/html": [
       "<div>\n",
       "<style scoped>\n",
       "    .dataframe tbody tr th:only-of-type {\n",
       "        vertical-align: middle;\n",
       "    }\n",
       "\n",
       "    .dataframe tbody tr th {\n",
       "        vertical-align: top;\n",
       "    }\n",
       "\n",
       "    .dataframe thead th {\n",
       "        text-align: right;\n",
       "    }\n",
       "</style>\n",
       "<table border=\"1\" class=\"dataframe\">\n",
       "  <thead>\n",
       "    <tr style=\"text-align: right;\">\n",
       "      <th></th>\n",
       "      <th>temperature</th>\n",
       "      <th>heart_rate</th>\n",
       "    </tr>\n",
       "  </thead>\n",
       "  <tbody>\n",
       "    <tr>\n",
       "      <th>count</th>\n",
       "      <td>130.000000</td>\n",
       "      <td>130.000000</td>\n",
       "    </tr>\n",
       "    <tr>\n",
       "      <th>mean</th>\n",
       "      <td>98.249231</td>\n",
       "      <td>73.761538</td>\n",
       "    </tr>\n",
       "    <tr>\n",
       "      <th>std</th>\n",
       "      <td>0.733183</td>\n",
       "      <td>7.062077</td>\n",
       "    </tr>\n",
       "    <tr>\n",
       "      <th>min</th>\n",
       "      <td>96.300000</td>\n",
       "      <td>57.000000</td>\n",
       "    </tr>\n",
       "    <tr>\n",
       "      <th>25%</th>\n",
       "      <td>97.800000</td>\n",
       "      <td>69.000000</td>\n",
       "    </tr>\n",
       "    <tr>\n",
       "      <th>50%</th>\n",
       "      <td>98.300000</td>\n",
       "      <td>74.000000</td>\n",
       "    </tr>\n",
       "    <tr>\n",
       "      <th>75%</th>\n",
       "      <td>98.700000</td>\n",
       "      <td>79.000000</td>\n",
       "    </tr>\n",
       "    <tr>\n",
       "      <th>max</th>\n",
       "      <td>100.800000</td>\n",
       "      <td>89.000000</td>\n",
       "    </tr>\n",
       "  </tbody>\n",
       "</table>\n",
       "</div>"
      ],
      "text/plain": [
       "       temperature  heart_rate\n",
       "count   130.000000  130.000000\n",
       "mean     98.249231   73.761538\n",
       "std       0.733183    7.062077\n",
       "min      96.300000   57.000000\n",
       "25%      97.800000   69.000000\n",
       "50%      98.300000   74.000000\n",
       "75%      98.700000   79.000000\n",
       "max     100.800000   89.000000"
      ]
     },
     "execution_count": 89,
     "metadata": {},
     "output_type": "execute_result"
    }
   ],
   "source": [
    "df.describe()"
   ]
  },
  {
   "cell_type": "markdown",
   "metadata": {},
   "source": [
    "#### Bootstrap Hypothesis Test"
   ]
  },
  {
   "cell_type": "markdown",
   "metadata": {},
   "source": [
    "##### Hypotheses: \n",
    "##### H<sub>0</sub> : mean of human body temperatures is equal to 98.6 degrees Fahrenheit\n",
    "##### H<sub>b</sub> : mean of human body temperatures is **NOT** equal to 98.6 degrees Fahreheit"
   ]
  },
  {
   "cell_type": "code",
   "execution_count": 90,
   "metadata": {},
   "outputs": [
    {
     "name": "stdout",
     "output_type": "stream",
     "text": [
      "p-value: 0.0\n",
      "mean:  98.249\n"
     ]
    }
   ],
   "source": [
    "# Bootstrap hypothesis test - 10,000 samples\n",
    "bs_replicates = np.empty(10000)\n",
    "\n",
    "size = len(bs_replicates)\n",
    "\n",
    "for i in range(size):\n",
    "    bs_sample = np.random.choice(temp, len(temp))\n",
    "    bs_replicates[i] = np.mean(bs_sample)\n",
    "    \n",
    "a = np.sum(bs_replicates >= 98.6) / size #98.6 is the number we're using as mean to test\n",
    "\n",
    "print('p-value: {}'.format(a))\n",
    "print('mean: {: .5}'.format(np.mean(bs_replicates)))\n"
   ]
  },
  {
   "cell_type": "markdown",
   "metadata": {},
   "source": [
    "### Results: "
   ]
  },
  {
   "cell_type": "markdown",
   "metadata": {},
   "source": [
    "##### 10,000 samples and the p-value is 0.0, meaning the null hypothesis should be rejected. From this bootstrap hypothesis test, the mean body temperature of the sample set is 98.25 degrees Fahrenheit."
   ]
  },
  {
   "cell_type": "markdown",
   "metadata": {},
   "source": [
    "#### Let's try increasing the number of samples and see if that changes the results"
   ]
  },
  {
   "cell_type": "code",
   "execution_count": 91,
   "metadata": {},
   "outputs": [
    {
     "name": "stdout",
     "output_type": "stream",
     "text": [
      "p-value: 0.0\n",
      "mean:  98.249\n"
     ]
    }
   ],
   "source": [
    "# Bootstrap hypothesis test - 250,000 samples\n",
    "bs_replicates2 = np.empty(250000)\n",
    "\n",
    "size2 = len(bs_replicates2)\n",
    "\n",
    "for j in range (size2):\n",
    "    bs_sample2 = np.random.choice(temp, len(temp))\n",
    "    bs_replicates2[j] = np.mean(bs_sample2)\n",
    "    \n",
    "b = np.sum(bs_replicates2 >= 98.6) / size2\n",
    "\n",
    "print('p-value: {}'.format(b))\n",
    "print('mean: {: .5}'.format(np.mean(bs_replicates2)))\n"
   ]
  },
  {
   "cell_type": "markdown",
   "metadata": {},
   "source": [
    "### Results: "
   ]
  },
  {
   "cell_type": "markdown",
   "metadata": {},
   "source": [
    "##### 250,000 samples and the p-value is still 0.0, meaning that once again, the null hypothesis should be rejected. However, with more samples, the mean drew out an additional decimal place."
   ]
  },
  {
   "cell_type": "markdown",
   "metadata": {},
   "source": [
    "### Frequentist Approach:"
   ]
  },
  {
   "cell_type": "markdown",
   "metadata": {},
   "source": [
    "##### A one-sample test because we are comparing the mean of a single sample to a population with a hypothesized mean."
   ]
  },
  {
   "cell_type": "code",
   "execution_count": 92,
   "metadata": {},
   "outputs": [
    {
     "name": "stdout",
     "output_type": "stream",
     "text": [
      "t_score: -5.45482\n",
      "p-value: 0.0\n"
     ]
    }
   ],
   "source": [
    "t_stat = stats.ttest_1samp(temp, 98.6)\n",
    "print('t_score: {}'.format(round(t_stat.statistic, 5)))\n",
    "print('p-value: {}'.format(round(t_stat.pvalue, 5)))"
   ]
  },
  {
   "cell_type": "markdown",
   "metadata": {},
   "source": [
    "### Appropriate to use the t or Z statistic?"
   ]
  },
  {
   "cell_type": "markdown",
   "metadata": {},
   "source": [
    "##### Because Z statistic requires the **population** standard deviation, the t statistic is the only option. The t statistic requires only the **sample** standard deviation."
   ]
  },
  {
   "cell_type": "markdown",
   "metadata": {},
   "source": [
    "### Question 4: Draw a small sample of size 10 from the data and repeat both frequentist tests.\n",
    "#### Which one is the correct one to use?\n",
    "#### What do you notice? What does this tell you about the difference in application of the  𝑡  and  𝑧  statistic?"
   ]
  },
  {
   "cell_type": "code",
   "execution_count": 93,
   "metadata": {},
   "outputs": [
    {
     "name": "stdout",
     "output_type": "stream",
     "text": [
      "t-score: 0.8327\n",
      "p-value: 0.4266\n"
     ]
    }
   ],
   "source": [
    "sample_temp = np.random.choice(a = temp, size = 10)\n",
    "b = stats.ttest_1samp(sample_temp, 98.6)\n",
    "print('t-score: {:.4}'.format(b.statistic))\n",
    "print('p-value: {:.4}'.format(b.pvalue))"
   ]
  },
  {
   "cell_type": "markdown",
   "metadata": {},
   "source": [
    "##### t test is only option because population standard deviation is unknown. p-value greater than .05, null hypothesis cannot be rejected. Difference in application between t and Z statistic is largely dependent on the data available from both a sample and a population perspective."
   ]
  },
  {
   "cell_type": "markdown",
   "metadata": {},
   "source": [
    "### Question 5: At what temperature should we consider someone's temperature to be \"abnormal\"?\n",
    "#### As in the previous example, try calculating everything using the boostrap approach, as well as the frequentist approach.\n",
    "#### Start by computing the margin of error and confidence interval. When calculating the confidence interval, keep in mind that you should use the appropriate formula for one draw, and not N draws."
   ]
  },
  {
   "cell_type": "code",
   "execution_count": 94,
   "metadata": {},
   "outputs": [
    {
     "name": "stdout",
     "output_type": "stream",
     "text": [
      "The Average Mean of Our Sample is: 98.249\n",
      "The Standard Deviation of Our Sample is: 0.73036\n"
     ]
    }
   ],
   "source": [
    "# First we must get the sample mean and standard deviation for use\n",
    "xb = np.mean(temp)\n",
    "std = np.std(temp)\n",
    "\n",
    "print('The Average Mean of Our Sample is: {:.5}'.format(xb))\n",
    "print('The Standard Deviation of Our Sample is: {:.5}'.format(std))"
   ]
  },
  {
   "cell_type": "markdown",
   "metadata": {},
   "source": [
    "#### Bootstrap Approach:"
   ]
  },
  {
   "cell_type": "code",
   "execution_count": 95,
   "metadata": {},
   "outputs": [
    {
     "name": "stdout",
     "output_type": "stream",
     "text": [
      "p-value: 0.0\n",
      "95% Confidence Interval: 96.818 - 99.681\n",
      "Margin of Error: +/-1.4315\n",
      "\n",
      "\n"
     ]
    }
   ],
   "source": [
    "# First we must calculate the p-value using 250,000 bootstrap replicates\n",
    "\n",
    "bootstrap_replicates2 = np.empty(250000)\n",
    "\n",
    "size2 = len(bootstrap_replicates2)\n",
    "\n",
    "for k in range(size2):\n",
    "    bootstrap_sample2 = np.random.choice(temp, size = len(temp))\n",
    "    bootstrap_replicates2[k] = np.mean(bootstrap_sample2)\n",
    "    \n",
    "p2 = np.sum(bootstrap_replicates2 >= 98.6) / len(bootstrap_replicates2)\n",
    "print('p-value: {}'.format(p2))\n",
    "\n",
    "xb2 = np.mean(bootstrap_replicates2)\n",
    "ci = stats.norm.interval(.95, loc = xb2, scale = std)\n",
    "\n",
    "print('95% Confidence Interval: {:.5} - {:.5}'.format(ci[0], ci[1]))\n",
    "print('Margin of Error: +/-{:.5}\\n\\n'.format((ci[1] - xb2)))"
   ]
  },
  {
   "cell_type": "markdown",
   "metadata": {},
   "source": [
    "### Frequentist Approach:"
   ]
  },
  {
   "cell_type": "code",
   "execution_count": 96,
   "metadata": {},
   "outputs": [
    {
     "name": "stdout",
     "output_type": "stream",
     "text": [
      "95% confidence interval: 96.818 - 99.681\n",
      "Margin of Error: +/-1.4315\n"
     ]
    }
   ],
   "source": [
    "# alpha = .05, confidence coefficient = 95%\n",
    "\n",
    "ci_low, ci_high = stats.norm.interval(.95, loc = xb2, scale = std)\n",
    "print('95% confidence interval: {:.5} - {:.5}'.format(ci_low, ci_high))\n",
    "\n",
    "# still need to calculate margin of error\n",
    "print('Margin of Error: +/-{:.5}'.format(ci_high - xb2))"
   ]
  },
  {
   "cell_type": "markdown",
   "metadata": {},
   "source": [
    "### Results:"
   ]
  },
  {
   "cell_type": "markdown",
   "metadata": {},
   "source": [
    "##### Both approaches utilized the same mean that we calculated of 98.249 degrees Fahrenheit and a 95% confidence interval. In both approaches the range for \"normal\" temperatures is 96.818 - 99.681 degrees Fahrenheit. This means anything less than 96.818 and greater than 99.681 degrees Fahrenheit would be considered abnormal."
   ]
  },
  {
   "cell_type": "markdown",
   "metadata": {},
   "source": [
    "### Question 6: Is there a significant difference between males and females in normal temperature?\n",
    "#### What testing approach did you use and why?\n",
    "#### Write a story with your conclusion in the context of the original problem."
   ]
  },
  {
   "cell_type": "markdown",
   "metadata": {},
   "source": [
    "##### Hypotheses: \n",
    "##### H<sub>0</sub> : males and females have equal normal temperature\n",
    "##### H<sub>b</sub> : males and females do NOT have equal normal temperature"
   ]
  },
  {
   "cell_type": "code",
   "execution_count": 97,
   "metadata": {},
   "outputs": [
    {
     "name": "stdout",
     "output_type": "stream",
     "text": [
      "The number of male participants is: 65\n",
      "The number of female participants is: 65\n",
      "The total number of participants is: 130\n"
     ]
    }
   ],
   "source": [
    "males = df[df['gender'] == 'M']\n",
    "females = df[df['gender'] == 'F']\n",
    "\n",
    "print('The number of male participants is: {}'.format(len(males)))\n",
    "print('The number of female participants is: {}'.format(len(females)))\n",
    "print('The total number of participants is: {}'.format(len(females + males)))"
   ]
  },
  {
   "cell_type": "code",
   "execution_count": 107,
   "metadata": {},
   "outputs": [
    {
     "data": {
      "image/png": "[encoded data removed]",
      "text/plain": [
       "<Figure size 432x288 with 1 Axes>"
      ]
     },
     "metadata": {
      "needs_background": "light"
     },
     "output_type": "display_data"
    }
   ],
   "source": [
    "# Creating a plot for initial overview\n",
    "\n",
    "sns.boxplot(x = 'gender', y = 'temperature', data = df)\n",
    "\n",
    "_ = plt.title('Body Temperature by Gender')"
   ]
  },
  {
   "cell_type": "code",
   "execution_count": 116,
   "metadata": {},
   "outputs": [
    {
     "data": {
      "image/png": "[encoded data removed]",
      "text/plain": [
       "<Figure size 432x288 with 1 Axes>"
      ]
     },
     "metadata": {
      "needs_background": "light"
     },
     "output_type": "display_data"
    }
   ],
   "source": [
    "# Now lets check to see if both samples have normal distribution\n",
    "plt.style.use('seaborn-colorblind')\n",
    "# Compute ECDFs\n",
    "x_males, y_males = ecdf(males.temperature)\n",
    "x_females, y_females = ecdf(females.temperature)\n",
    "\n",
    "# Time to create the plot\n",
    "plt.plot(x_males, y_males, marker = '.', linestyle = 'none', color = 'r')\n",
    "plt.plot(x_females, y_females, marker = '.', linestyle = 'none', color = 'c')\n",
    "\n",
    "# Draw 250,000 random samples from a normal distribution\n",
    "males_norm_dist = np.random.normal(np.mean(males.temperature), np.std(males.temperature), 250000)\n",
    "males_nd_x, males_nd_y = ecdf(males_norm_dist)\n",
    "_ = plt.plot(males_nd_x, males_nd_y, color = 'r', alpha = .5)\n",
    "\n",
    "females_norm_dist = np.random.normal(np.mean(females.temperature), np.std(females.temperature), 250000)\n",
    "females_nd_x, females_nd_y = ecdf(females_norm_dist)\n",
    "_ = plt.plot(females_nd_x, females_nd_y, color = 'c', alpha = .5)\n",
    "\n",
    "# Margins\n",
    "plt.margins = .01\n",
    "\n",
    "# Label the plot\n",
    "_ = plt.xlabel('Gender')\n",
    "_ = plt.ylabel('ECDF')\n",
    "_ = plt.title('CDFs of males v. females')\n",
    "_ = plt.legend(('males', 'females'), loc = 'lower right', fontsize = 'large', markerscale = 2)"
   ]
  },
  {
   "cell_type": "code",
   "execution_count": 117,
   "metadata": {},
   "outputs": [
    {
     "name": "stdout",
     "output_type": "stream",
     "text": [
      "Male Variance: 0.4807479289940825\n",
      "Female Variance: 0.5442698224852062\n"
     ]
    }
   ],
   "source": [
    "# Check for both male and female variances\n",
    "male_var = np.var(males.temperature)\n",
    "female_var = np.var(females.temperature)\n",
    "\n",
    "print('Male Variance: {}'.format(male_var))\n",
    "print('Female Variance: {}'.format(female_var))"
   ]
  },
  {
   "cell_type": "code",
   "execution_count": 118,
   "metadata": {},
   "outputs": [
    {
     "name": "stdout",
     "output_type": "stream",
     "text": [
      "Bootstrap Comparison:\n",
      "Male Variance: 0.4732639793230769\n",
      "Female Variance: 0.5357989334532535\n"
     ]
    }
   ],
   "source": [
    "# Time to wrap it back around tothe null hypothesis, \"males and females have equal normal temperature\"\n",
    "# Compare the variances and prove they are not equal using bootstrap\n",
    "\n",
    "size = 250000\n",
    "\n",
    "bs_replicates_males = np.empty(size)\n",
    "\n",
    "for m in range(size):\n",
    "    bs_sample_males = np.random.choice(males.temperature, len(males.temperature))\n",
    "    bs_replicates_males[m] = np.var(bs_sample_males)\n",
    "    \n",
    "bs_var_males = np.sum(bs_replicates_males) / size\n",
    "\n",
    "bs_replicates_females = np.empty(size)\n",
    "\n",
    "for f in range(size):\n",
    "    bs_sample_females = np.random.choice(females.temperature, len(females.temperature))\n",
    "    bs_replicates_females[f] = np.var(bs_sample_females)\n",
    "    \n",
    "bs_var_females = np.sum(bs_replicates_females) / size\n",
    "\n",
    "print('Bootstrap Comparison:')\n",
    "print('Male Variance: {}'.format(bs_var_males))\n",
    "print('Female Variance: {}'.format(bs_var_females))\n"
   ]
  },
  {
   "cell_type": "code",
   "execution_count": 124,
   "metadata": {},
   "outputs": [
    {
     "name": "stdout",
     "output_type": "stream",
     "text": [
      "Sample Mean for Males: 98.105\n",
      "Sample Mean for Females: 98.394\n",
      "\n",
      "Sample Standard Deviation for Males: 0.69336\n",
      "Sample Standard Deviation for Females: 0.73775\n",
      "\n",
      "95% Confidence Interval for Males: 96.746 - 99.464\n",
      "95% Confidence Interval for Females: 96.948 - 99.84\n"
     ]
    }
   ],
   "source": [
    "# The bootstrap approach resulted in non-equal variances. The null hypothesis states that the means are equal; \n",
    "# We must now test the means of the two continuous distributions with a two-tailed t-test.\n",
    "# First, lets identify important values for both males and females\n",
    "\n",
    "xb_m = np.mean(males.temperature)\n",
    "xb_f = np.mean(females.temperature)\n",
    "\n",
    "std_m = np.std(males.temperature)\n",
    "std_f = np.std(females.temperature)\n",
    "\n",
    "# let's explore a 95% confidence interval for one draw\n",
    "ci_low_males, ci_high_males = stats.norm.interval(.95, loc = xb_m, scale = std_m)\n",
    "\n",
    "ci_low_females, ci_high_females = stats.norm.interval(.95, loc = xb_f, scale = std_f)\n",
    "\n",
    "print('Sample Mean for Males: {:.5}'.format(xb_m))\n",
    "print('Sample Mean for Females: {:.5}'.format(xb_f))\n",
    "print()\n",
    "print('Sample Standard Deviation for Males: {:.5}'.format(std_m))\n",
    "print('Sample Standard Deviation for Females: {:.5}'.format(std_f))\n",
    "print()\n",
    "print('95% Confidence Interval for Males: {:.5} - {:.5}'.format(ci_low_males, ci_high_males))\n",
    "print('95% Confidence Interval for Females: {:.5} - {:.5}'.format(ci_low_females, ci_high_females))\n"
   ]
  },
  {
   "cell_type": "code",
   "execution_count": 128,
   "metadata": {},
   "outputs": [
    {
     "name": "stdout",
     "output_type": "stream",
     "text": [
      "2-tail t-test:\n",
      "t-statistic: 1151.9\n",
      "p-value: 0.0\n"
     ]
    }
   ],
   "source": [
    "# Let's bootstrap the two-tailed t-test\n",
    "size = 250000\n",
    "bs_replicates_m1 = np.empty(size)\n",
    "\n",
    "for q in range(size):\n",
    "    bs_sample_m1 = np.random.choice(males.temperature, len(males.temperature))\n",
    "    bs_replicates_m1[q] = np.mean(bs_sample_m1)\n",
    "    \n",
    "bs_mean_m1 = np.sum(bs_replicates_m1) / size\n",
    "\n",
    "bs_replicates_f1 = np.empty(size)\n",
    "\n",
    "for v in range(size):\n",
    "    bs_sample_f1 = np.random.choice(females.temperature, len(females.temperature))\n",
    "    bs_replicates_f1[v] = np.mean(bs_sample_f1)\n",
    "    \n",
    "bs_mean_f1 = np.sum(bs_replicates_f1) / size\n",
    "\n",
    "final = stats.ttest_ind(bs_replicates_f1, bs_replicates_m1, equal_var = False)\n",
    "\n",
    "print('2-tail t-test:')\n",
    "print('t-statistic: {:.5}'.format(final[0]))\n",
    "print('p-value: {:.5}'.format(final[1]))"
   ]
  },
  {
   "cell_type": "markdown",
   "metadata": {},
   "source": [
    "#### Results:\n",
    "##### There is a significant difference between males and females in normal temperature. We were able to confirm that females' mean body temperature is slightly higher than males' mean body temperature. A two-tailed t-test was used with a 95% confidence interval. Females' mean body temperature was found to be 98.394 degrees Fahrenheit and Males' mean body temperature was found to be 98.105 degrees Fahrenheit."
   ]
  },
  {
   "cell_type": "markdown",
   "metadata": {},
   "source": [
    "### Final Results:"
   ]
  },
  {
   "cell_type": "markdown",
   "metadata": {},
   "source": [
    "##### This analysis began with an initial question of \"What is the True Normal Human Body Temperature?\" The sample of data available consisted of 130 samples, 65 male and 65 female. The data available had zero \"null\" values to adapt for. The value for the True Normal Human Body Temperature proposed was 98.6 degrees Fahrenheit and this was proven inaccurate and to be 98.25 degrees Fahreheit using a 95% confidence interval. \n",
    "\n",
    "##### The Central Limit Theorem applies in this situation as the distribution appeared normal and the sample size was sufficiently large. This allowed for inferences to be made which helped lead to our conclusion that the proposed value was incorrect. "
   ]
  },
  {
   "cell_type": "code",
   "execution_count": null,
   "metadata": {},
   "outputs": [],
   "source": []
  }
 ],
 "metadata": {
  "kernelspec": {
   "display_name": "Python 3",
   "language": "python",
   "name": "python3"
  },
  "language_info": {
   "codemirror_mode": {
    "name": "ipython",
    "version": 3
   },
   "file_extension": ".py",
   "mimetype": "text/x-python",
   "name": "python",
   "nbconvert_exporter": "python",
   "pygments_lexer": "ipython3",
   "version": "3.7.1"
  }
 },
 "nbformat": 4,
 "nbformat_minor": 2
}
